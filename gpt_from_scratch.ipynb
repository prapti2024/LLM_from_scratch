{
  "nbformat": 4,
  "nbformat_minor": 0,
  "metadata": {
    "colab": {
      "provenance": [],
      "authorship_tag": "ABX9TyO1CEBsK+hnYuZwR0uRuS7y",
      "include_colab_link": true
    },
    "kernelspec": {
      "name": "python3",
      "display_name": "Python 3"
    },
    "language_info": {
      "name": "python"
    }
  },
  "cells": [
    {
      "cell_type": "markdown",
      "metadata": {
        "id": "view-in-github",
        "colab_type": "text"
      },
      "source": [
        "<a href=\"https://colab.research.google.com/github/prapti2024/LLM_from_scratch/blob/main/gpt_from_scratch.ipynb\" target=\"_parent\"><img src=\"https://colab.research.google.com/assets/colab-badge.svg\" alt=\"Open In Colab\"/></a>"
      ]
    },
    {
      "cell_type": "markdown",
      "source": [
        "## TOKENIZATION\n"
      ],
      "metadata": {
        "id": "e35RXVVV6niZ"
      }
    },
    {
      "cell_type": "markdown",
      "source": [
        "Import tiktoken\n"
      ],
      "metadata": {
        "id": "gZK5VrCa8K4t"
      }
    },
    {
      "cell_type": "code",
      "source": [
        "import torch"
      ],
      "metadata": {
        "id": "jHJLTiHnNDU8"
      },
      "execution_count": 1,
      "outputs": []
    },
    {
      "cell_type": "code",
      "source": [
        "!pip3 install tiktoken"
      ],
      "metadata": {
        "colab": {
          "base_uri": "https://localhost:8080/"
        },
        "id": "-fRjz4Fq7Rkf",
        "outputId": "0a8b1bee-b10b-42c2-c0db-8e83b6c4f0c2"
      },
      "execution_count": 2,
      "outputs": [
        {
          "output_type": "stream",
          "name": "stdout",
          "text": [
            "Requirement already satisfied: tiktoken in /usr/local/lib/python3.11/dist-packages (0.9.0)\n",
            "Requirement already satisfied: regex>=2022.1.18 in /usr/local/lib/python3.11/dist-packages (from tiktoken) (2024.11.6)\n",
            "Requirement already satisfied: requests>=2.26.0 in /usr/local/lib/python3.11/dist-packages (from tiktoken) (2.32.3)\n",
            "Requirement already satisfied: charset-normalizer<4,>=2 in /usr/local/lib/python3.11/dist-packages (from requests>=2.26.0->tiktoken) (3.4.2)\n",
            "Requirement already satisfied: idna<4,>=2.5 in /usr/local/lib/python3.11/dist-packages (from requests>=2.26.0->tiktoken) (3.10)\n",
            "Requirement already satisfied: urllib3<3,>=1.21.1 in /usr/local/lib/python3.11/dist-packages (from requests>=2.26.0->tiktoken) (2.4.0)\n",
            "Requirement already satisfied: certifi>=2017.4.17 in /usr/local/lib/python3.11/dist-packages (from requests>=2.26.0->tiktoken) (2025.6.15)\n"
          ]
        }
      ]
    },
    {
      "cell_type": "code",
      "source": [],
      "metadata": {
        "id": "uTfmLGrx0mBI"
      },
      "execution_count": null,
      "outputs": []
    },
    {
      "cell_type": "code",
      "source": [
        "import importlib\n",
        "import tiktoken\n",
        "print(\"tiktoken version:\", importlib.metadata.version(\"tiktoken\"))"
      ],
      "metadata": {
        "colab": {
          "base_uri": "https://localhost:8080/"
        },
        "id": "DBflRVye7nG_",
        "outputId": "324bbd28-890a-4acc-beaa-d003e1892a68"
      },
      "execution_count": 3,
      "outputs": [
        {
          "output_type": "stream",
          "name": "stdout",
          "text": [
            "tiktoken version: 0.9.0\n"
          ]
        }
      ]
    },
    {
      "cell_type": "code",
      "source": [
        "tokenizer = tiktoken.get_encoding(\"gpt2\")"
      ],
      "metadata": {
        "id": "VKeiciMp7qnu"
      },
      "execution_count": 4,
      "outputs": []
    },
    {
      "cell_type": "markdown",
      "source": [
        "Implementing a DataLoader"
      ],
      "metadata": {
        "id": "Dn9jplqL8ZMX"
      }
    },
    {
      "cell_type": "code",
      "execution_count": 5,
      "metadata": {
        "id": "WNgDU-I47CvF"
      },
      "outputs": [],
      "source": [
        "from torch.utils.data import Dataset, DataLoader\n",
        "\n",
        "\n",
        "class GPTDatasetV1(Dataset):\n",
        "    def __init__(self, txt, tokenizer, max_length, stride):\n",
        "        self.input_ids = []\n",
        "        self.target_ids = []\n",
        "\n",
        "        # Tokenize the entire text\n",
        "        token_ids = tokenizer.encode(txt, allowed_special={\"<|endoftext|>\"})\n",
        "\n",
        "        # Use a sliding window to chunk the book into overlapping sequences of max_length\n",
        "        for i in range(0, len(token_ids) - max_length, stride):\n",
        "            input_chunk = token_ids[i:i + max_length]\n",
        "            target_chunk = token_ids[i + 1: i + max_length + 1]\n",
        "            self.input_ids.append(torch.tensor(input_chunk))\n",
        "            self.target_ids.append(torch.tensor(target_chunk))\n",
        "\n",
        "    def __len__(self):\n",
        "        return len(self.input_ids)\n",
        "\n",
        "    def __getitem__(self, idx):\n",
        "        return self.input_ids[idx], self.target_ids[idx]"
      ]
    },
    {
      "cell_type": "code",
      "execution_count": 6,
      "metadata": {
        "id": "rPgn0rSt7CvH"
      },
      "outputs": [],
      "source": [
        "def create_dataloader_v1(txt, batch_size=4, max_length=256,\n",
        "                         stride=128, shuffle=True, drop_last=True,\n",
        "                         num_workers=0):\n",
        "\n",
        "    # Initialize the tokenizer\n",
        "    tokenizer = tiktoken.get_encoding(\"gpt2\")\n",
        "\n",
        "    # Create dataset\n",
        "    dataset = GPTDatasetV1(txt, tokenizer, max_length, stride)\n",
        "\n",
        "    # Create dataloader\n",
        "    dataloader = DataLoader(\n",
        "        dataset,\n",
        "        batch_size=batch_size,\n",
        "        shuffle=shuffle,\n",
        "        drop_last=drop_last,\n",
        "        num_workers=num_workers\n",
        "    )\n",
        "\n",
        "    return dataloader"
      ]
    },
    {
      "cell_type": "markdown",
      "source": [
        "Creating Token Embeddings"
      ],
      "metadata": {
        "id": "Jxb7B4q2M88E"
      }
    },
    {
      "cell_type": "code",
      "execution_count": 7,
      "metadata": {
        "id": "Xwi9lKNe7CvL"
      },
      "outputs": [],
      "source": [
        "vocab_size = 50257\n",
        "output_dim = 256\n",
        "context_length = 4\n",
        "\n",
        "token_embedding_layer = torch.nn.Embedding(vocab_size, output_dim)"
      ]
    },
    {
      "cell_type": "code",
      "execution_count": 8,
      "metadata": {
        "id": "W1KQCr4J7CvL",
        "outputId": "84457b73-9281-46df-c33d-bad788c24130",
        "colab": {
          "base_uri": "https://localhost:8080/"
        }
      },
      "outputs": [
        {
          "output_type": "stream",
          "name": "stdout",
          "text": [
            "Parameter containing:\n",
            "tensor([[ 0.3338, -1.8135, -0.1289,  ..., -0.0517,  0.8661,  1.5792],\n",
            "        [-1.9769,  0.2740,  0.5075,  ...,  1.0264, -0.4150, -1.7623],\n",
            "        [-0.0171, -1.8730, -0.4840,  ...,  0.5212, -0.2117,  0.0134],\n",
            "        ...,\n",
            "        [ 1.6442, -1.1395, -0.1527,  ...,  0.6767, -0.0858, -0.5469],\n",
            "        [ 1.5911,  2.2329,  2.0597,  ..., -0.3386, -0.1779,  0.4726],\n",
            "        [ 1.2682,  1.4984, -1.1810,  ...,  0.2742, -0.7217,  0.4535]],\n",
            "       requires_grad=True)\n"
          ]
        }
      ],
      "source": [
        "print(token_embedding_layer.weight)\n"
      ]
    },
    {
      "cell_type": "code",
      "source": [
        "token_embeddings = token_embedding_layer(torch.arange(context_length))\n",
        "print(token_embeddings.shape)"
      ],
      "metadata": {
        "colab": {
          "base_uri": "https://localhost:8080/"
        },
        "id": "BVKh8ymexuUS",
        "outputId": "7bd6c70e-636e-4456-f95c-0c29cc6bc091"
      },
      "execution_count": 9,
      "outputs": [
        {
          "output_type": "stream",
          "name": "stdout",
          "text": [
            "torch.Size([4, 256])\n"
          ]
        }
      ]
    },
    {
      "cell_type": "markdown",
      "source": [
        "Positional embeddings\n"
      ],
      "metadata": {
        "id": "6-mqJQslOyMs"
      }
    },
    {
      "cell_type": "code",
      "execution_count": 10,
      "metadata": {
        "id": "CGw7BnEY7CvP"
      },
      "outputs": [],
      "source": [
        "token_embedding_layer = torch.nn.Embedding(vocab_size, output_dim)"
      ]
    },
    {
      "cell_type": "code",
      "execution_count": 11,
      "metadata": {
        "id": "tgyHrsJ4s59-"
      },
      "outputs": [],
      "source": [
        "pos_embedding_layer = torch.nn.Embedding(context_length, output_dim)"
      ]
    },
    {
      "cell_type": "code",
      "execution_count": 12,
      "metadata": {
        "id": "-pYfMMFZs5-C",
        "colab": {
          "base_uri": "https://localhost:8080/"
        },
        "outputId": "188a7742-bde0-4614-808e-0e3b96347ebe"
      },
      "outputs": [
        {
          "output_type": "stream",
          "name": "stdout",
          "text": [
            "torch.Size([4, 256])\n"
          ]
        }
      ],
      "source": [
        "pos_embeddings = pos_embedding_layer(torch.arange(context_length))\n",
        "print(pos_embeddings.shape)"
      ]
    },
    {
      "cell_type": "code",
      "execution_count": 13,
      "metadata": {
        "id": "SUQfxYW-xass",
        "colab": {
          "base_uri": "https://localhost:8080/"
        },
        "outputId": "6d1eb24e-8383-4dc3-dc30-1c0f5a84c76f"
      },
      "outputs": [
        {
          "output_type": "stream",
          "name": "stdout",
          "text": [
            "torch.Size([4, 256])\n"
          ]
        }
      ],
      "source": [
        "input_embeddings = token_embeddings + pos_embeddings\n",
        "print(input_embeddings.shape)"
      ]
    },
    {
      "cell_type": "markdown",
      "source": [
        "Creating an instance of data loader."
      ],
      "metadata": {
        "id": "ijRt2L20zjKj"
      }
    },
    {
      "cell_type": "code",
      "source": [],
      "metadata": {
        "id": "n6oAp-F0zmxf"
      },
      "execution_count": 13,
      "outputs": []
    },
    {
      "cell_type": "markdown",
      "source": [
        "# GPT-2 BASED TRANSFORMER BLOCK"
      ],
      "metadata": {
        "id": "Et6PeIi71lCN"
      }
    },
    {
      "cell_type": "code",
      "source": [
        "GPT_CONFIG_124M = {\n",
        "    \"vocab_size\" : 50257,\n",
        "    \"context_length\" : 1024,\n",
        "    \"emb_dim\" : 768,\n",
        "    \"n_heads\": 12, #no of attention heads\n",
        "    \"n_layers\" : 12, #no_of transformers\n",
        "    \"drop_rate\" : 0.1, #10% of neurons are set to 0\n",
        "    \"qkv_bias\" :  False #not required bias term rn\n",
        "}"
      ],
      "metadata": {
        "id": "xrKkJD5PgDFq"
      },
      "execution_count": 14,
      "outputs": []
    },
    {
      "cell_type": "markdown",
      "source": [
        "**Layer Normalization class**"
      ],
      "metadata": {
        "id": "p89m_w_T56BK"
      }
    },
    {
      "cell_type": "code",
      "source": [
        "import torch\n",
        "from torch import nn"
      ],
      "metadata": {
        "id": "SfNtrpLq6FSY"
      },
      "execution_count": 15,
      "outputs": []
    },
    {
      "cell_type": "code",
      "source": [
        "class LayerNorm(nn.Module):\n",
        "  def __init__(self,emb_dim):\n",
        "    super().__init__()\n",
        "    self.eps = 1e-5\n",
        "    self.scale = nn.Parameter(torch.ones(emb_dim))\n",
        "    self.shift = nn.Parameter(torch.zeros(emb_dim))\n",
        "\n",
        "  def forward(self,x):\n",
        "    mean = x.mean(dim = -1,keepdim = True )\n",
        "    var = x.var(dim = -1,keepdim = True, unbiased = False)\n",
        "    norm_x = (x - mean)/torch.sqrt(var + self.eps)\n",
        "    return self.scale * norm_x + self.shift\n",
        "\n",
        "\n"
      ],
      "metadata": {
        "id": "PYIapT_ZgDKq"
      },
      "execution_count": 16,
      "outputs": []
    },
    {
      "cell_type": "markdown",
      "source": [
        "**GELU ACTIVATION FUNCTION**"
      ],
      "metadata": {
        "id": "zzDpmnBJ-Lx6"
      }
    },
    {
      "cell_type": "code",
      "source": [
        "class GELU(nn.Module):\n",
        "  def __init__(self):\n",
        "    super().__init__()\n",
        "\n",
        "  def forward(self,x):\n",
        "     return 0.5 * x *(1 + torch.tanh(torch.sqrt(torch.tensor(2/torch.pi)) * (x + 0.044715 * torch.pow(x,3))))"
      ],
      "metadata": {
        "id": "UhryKb54-SSc"
      },
      "execution_count": 17,
      "outputs": []
    },
    {
      "cell_type": "markdown",
      "source": [
        "**Feed Forward Layer**"
      ],
      "metadata": {
        "id": "Xd0_KFCoELQ1"
      }
    },
    {
      "cell_type": "code",
      "source": [
        "class FeedForward(nn.Module):\n",
        "  def __init__(self,cfg):\n",
        "    super().__init__()\n",
        "    self.layers = nn.Sequential(\n",
        "        nn.Linear(cfg[\"emb_dim\"],4*cfg[\"emb_dim\"]),\n",
        "        GELU(),\n",
        "        nn.Linear(4*cfg[\"emb_dim\"],cfg[\"emb_dim\"]),\n",
        "    )\n",
        "\n",
        "  def forward(self,x):\n",
        "    return self.layers(x)\n"
      ],
      "metadata": {
        "id": "dT_7CqNiC42M"
      },
      "execution_count": 18,
      "outputs": []
    },
    {
      "cell_type": "markdown",
      "source": [
        "Multihead Attention Class"
      ],
      "metadata": {
        "id": "cIgiik-aXyyL"
      }
    },
    {
      "cell_type": "code",
      "source": [
        "class MultiHeadAttention(nn.Module):\n",
        "    def __init__(self, d_in, d_out, context_length, dropout, num_heads, qkv_bias=False):\n",
        "        super().__init__()\n",
        "        assert (d_out % num_heads == 0), \\\n",
        "            \"d_out must be divisible by num_heads\"\n",
        "\n",
        "        self.d_out = d_out\n",
        "        self.num_heads = num_heads\n",
        "        self.head_dim = d_out // num_heads # Reduce the projection dim to match desired output dim\n",
        "\n",
        "        self.W_query = nn.Linear(d_in, d_out, bias=qkv_bias)\n",
        "        self.W_key = nn.Linear(d_in, d_out, bias=qkv_bias)\n",
        "        self.W_value = nn.Linear(d_in, d_out, bias=qkv_bias)\n",
        "        self.out_proj = nn.Linear(d_out, d_out)  # Linear layer to combine head outputs\n",
        "        self.dropout = nn.Dropout(dropout)\n",
        "        self.register_buffer(\n",
        "            \"mask\",\n",
        "            torch.triu(torch.ones(context_length, context_length),\n",
        "                       diagonal=1)\n",
        "        )\n",
        "\n",
        "    def forward(self, x):\n",
        "        b, num_tokens, d_in = x.shape\n",
        "\n",
        "        keys = self.W_key(x) # Shape: (b, num_tokens, d_out)\n",
        "        queries = self.W_query(x)\n",
        "        values = self.W_value(x)\n",
        "\n",
        "        # We implicitly split the matrix by adding a `num_heads` dimension\n",
        "        # Unroll last dim: (b, num_tokens, d_out) -> (b, num_tokens, num_heads, head_dim)\n",
        "        keys = keys.view(b, num_tokens, self.num_heads, self.head_dim)\n",
        "        values = values.view(b, num_tokens, self.num_heads, self.head_dim)\n",
        "        queries = queries.view(b, num_tokens, self.num_heads, self.head_dim)\n",
        "\n",
        "        # Transpose: (b, num_tokens, num_heads, head_dim) -> (b, num_heads, num_tokens, head_dim)\n",
        "        keys = keys.transpose(1, 2)\n",
        "        queries = queries.transpose(1, 2)\n",
        "        values = values.transpose(1, 2)\n",
        "\n",
        "        # Compute scaled dot-product attention (aka self-attention) with a causal mask\n",
        "        attn_scores = queries @ keys.transpose(2, 3)  # Dot product for each head\n",
        "\n",
        "        # Original mask truncated to the number of tokens and converted to boolean\n",
        "        mask_bool = self.mask.bool()[:num_tokens, :num_tokens]\n",
        "\n",
        "        # Use the mask to fill attention scores\n",
        "        attn_scores.masked_fill_(mask_bool, -torch.inf)\n",
        "\n",
        "        attn_weights = torch.softmax(attn_scores / keys.shape[-1]**0.5, dim=-1)\n",
        "        attn_weights = self.dropout(attn_weights)\n",
        "\n",
        "        # Shape: (b, num_tokens, num_heads, head_dim)\n",
        "        context_vec = (attn_weights @ values).transpose(1, 2)\n",
        "\n",
        "        # Combine heads, where self.d_out = self.num_heads * self.head_dim\n",
        "        context_vec = context_vec.contiguous().view(b, num_tokens, self.d_out)\n",
        "        context_vec = self.out_proj(context_vec) # optional projection\n",
        "\n",
        "        return context_vec\n"
      ],
      "metadata": {
        "id": "VT_C7bO5VGZU"
      },
      "execution_count": 19,
      "outputs": []
    },
    {
      "cell_type": "markdown",
      "source": [
        "**TRANSFORMER BLOCK**"
      ],
      "metadata": {
        "id": "e0Goj63FNOfU"
      }
    },
    {
      "cell_type": "code",
      "source": [
        "class TransformerBlock(nn.Module):\n",
        "  def __init__(self,cfg):\n",
        "    super().__init__()\n",
        "    self.att = MultiHeadAttention(\n",
        "        d_in = cfg[\"emb_dim\"],\n",
        "        d_out = cfg[\"emb_dim\"],\n",
        "        context_length = cfg[\"context_length\"],\n",
        "        dropout = cfg[\"drop_rate\"],\n",
        "        num_heads = cfg[\"n_heads\"],\n",
        "        qkv_bias=cfg[\"qkv_bias\"]\n",
        "    )\n",
        "    self.ff = FeedForward(cfg)\n",
        "    self.norm1 = LayerNorm(cfg[\"emb_dim\"])\n",
        "    self.norm2 = LayerNorm(cfg[\"emb_dim\"])\n",
        "    self.drop_shortcut = nn.Dropout(cfg[\"drop_rate\"])\n",
        "\n",
        "  def forward(self,x):\n",
        "        shortcut = x\n",
        "        x = self.norm1(x)\n",
        "        x = self.att(x)\n",
        "        x = self.drop_shortcut(x)\n",
        "        x = x + shortcut\n",
        "\n",
        "        shortcut = x\n",
        "        x = self.norm2(x)\n",
        "        x = self.ff(x)\n",
        "        x = self.drop_shortcut(x)\n",
        "        x = x + shortcut\n",
        "        return x\n"
      ],
      "metadata": {
        "id": "1QvoukR3QN0N"
      },
      "execution_count": 20,
      "outputs": []
    },
    {
      "cell_type": "code",
      "source": [
        "torch.manual_seed(123)\n",
        "x = torch.rand(2, 4, 768)\n",
        "block = TransformerBlock(GPT_CONFIG_124M)\n",
        "output = block(x)\n",
        "print(\"Input size: \\n\",x.shape)\n",
        "print(\"Output size: \\n\",output.shape)"
      ],
      "metadata": {
        "id": "3rkEuIQ06dtA",
        "colab": {
          "base_uri": "https://localhost:8080/"
        },
        "outputId": "c753fc03-8d06-4c7b-fffb-21fa0bcf23b0"
      },
      "execution_count": 21,
      "outputs": [
        {
          "output_type": "stream",
          "name": "stdout",
          "text": [
            "Input size: \n",
            " torch.Size([2, 4, 768])\n",
            "Output size: \n",
            " torch.Size([2, 4, 768])\n"
          ]
        }
      ]
    },
    {
      "cell_type": "markdown",
      "source": [
        "# CODE ENTIRE GPT-2 MODEL"
      ],
      "metadata": {
        "id": "1bmytX_eZ1Zm"
      }
    },
    {
      "cell_type": "code",
      "source": [
        "class GPTModel(nn.Module):\n",
        "  def __init__(self,cfg):\n",
        "    super().__init__()\n",
        "    self.tok_emb=nn.Embedding(cfg[\"vocab_size\"],cfg[\"emb_dim\"])\n",
        "    self.pos_emb=nn.Embedding(cfg[\"vocab_size\"],cfg[\"emb_dim\"])\n",
        "    self.drop_emb = nn.Dropout(cfg[\"drop_rate\"])\n",
        "\n",
        "    self.trf_blocks = nn.Sequential(\n",
        "        *[TransformerBlock(cfg) for _ in range(cfg[\"n_layers\"])]\n",
        "    )\n",
        "\n",
        "    self.final_norm = LayerNorm(cfg[\"emb_dim\"])\n",
        "    self.out_head = nn.Linear(cfg[\"emb_dim\"],cfg[\"vocab_size\"],bias = False)\n",
        "\n",
        "  def forward(self,in_idx):\n",
        "      batch_size,seq_len = in_idx.shape\n",
        "      tok_embeddings = self.tok_emb(in_idx)\n",
        "      pos_embeddings = self.pos_emb(torch.arange(seq_len,device = in_idx.device))\n",
        "      x = tok_embeddings + pos_embeddings\n",
        "      x = self.drop_emb(x)\n",
        "      x = self.trf_blocks(x)\n",
        "      x = self.final_norm(x)\n",
        "      logits = self.out_head(x)\n",
        "      return logits\n"
      ],
      "metadata": {
        "id": "-3tgWyMHZ48O",
        "collapsed": true
      },
      "execution_count": 22,
      "outputs": []
    },
    {
      "cell_type": "code",
      "source": [
        "batch = torch.tensor([[6109,3626,6100,345],\n",
        "                      [6109,1110,6622,257]])"
      ],
      "metadata": {
        "id": "d6qokHj3lXAK"
      },
      "execution_count": 23,
      "outputs": []
    },
    {
      "cell_type": "code",
      "source": [
        "torch.manual_seed(123)\n",
        "model = GPTModel(GPT_CONFIG_124M)\n",
        "out = model(batch)\n",
        "print(\"Input: \",batch)\n",
        "print(\"Output Shape : \",out.shape)\n",
        "print(out)"
      ],
      "metadata": {
        "id": "oZu6bfBXiwNQ",
        "colab": {
          "base_uri": "https://localhost:8080/"
        },
        "outputId": "39f2e325-4dcc-417c-e1a4-9464e17c6c2a"
      },
      "execution_count": 24,
      "outputs": [
        {
          "output_type": "stream",
          "name": "stdout",
          "text": [
            "Input:  tensor([[6109, 3626, 6100,  345],\n",
            "        [6109, 1110, 6622,  257]])\n",
            "Output Shape :  torch.Size([2, 4, 50257])\n",
            "tensor([[[-0.0658,  0.2695,  0.2692,  ...,  1.3852, -0.0546, -0.5503],\n",
            "         [ 0.3035, -0.1901, -0.7108,  ...,  0.3340,  0.5741, -0.2450],\n",
            "         [-0.1009,  0.3720, -0.3529,  ..., -0.2624, -0.1344,  0.6451],\n",
            "         [ 0.2338,  0.9179,  0.4180,  ...,  0.6700, -1.1723, -0.1790]],\n",
            "\n",
            "        [[-0.1588,  0.3306,  0.4211,  ...,  1.3506,  0.4324, -0.5578],\n",
            "         [ 0.5375,  0.0084, -0.0601,  ...,  0.7958,  0.5095, -0.1663],\n",
            "         [ 0.0115, -0.1516, -0.1547,  ..., -0.0059, -1.0677,  0.2764],\n",
            "         [ 0.3840,  0.5324,  0.4590,  ...,  0.8971, -0.8554, -0.2125]]],\n",
            "       grad_fn=<UnsafeViewBackward0>)\n"
          ]
        }
      ]
    },
    {
      "cell_type": "code",
      "source": [
        "total_params = sum(p.numel() for p in model.parameters())\n",
        "print(f\"Total number of parameters: {total_params}\")"
      ],
      "metadata": {
        "id": "8DdR7rP_l9yJ",
        "colab": {
          "base_uri": "https://localhost:8080/"
        },
        "outputId": "2db217ff-a1a5-45dd-f645-0a812b362d74"
      },
      "execution_count": 25,
      "outputs": [
        {
          "output_type": "stream",
          "name": "stdout",
          "text": [
            "Total number of parameters: 200820480\n"
          ]
        }
      ]
    },
    {
      "cell_type": "code",
      "source": [
        "#Space taken by model\n",
        "total_size_bytes = 4 * total_params\n",
        "total_size_mb = total_size_bytes/(1024**2)\n",
        "print(f\"Total size of the model: {total_size_mb:.2f} MB\")"
      ],
      "metadata": {
        "id": "UlTEjUwgsPVD",
        "colab": {
          "base_uri": "https://localhost:8080/"
        },
        "outputId": "9a7ee7f3-7975-4d7a-e8e2-b077f4caf8b7"
      },
      "execution_count": 26,
      "outputs": [
        {
          "output_type": "stream",
          "name": "stdout",
          "text": [
            "Total size of the model: 766.07 MB\n"
          ]
        }
      ]
    },
    {
      "cell_type": "markdown",
      "source": [
        "## Predict the next token from logits"
      ],
      "metadata": {
        "id": "ObRdLpn4s2CV"
      }
    },
    {
      "cell_type": "code",
      "source": [
        "#Every vocabulary and its corresponding id are seen to predict new word\n",
        "def generate_text_simple(model,idx,max_new_tokens,context_size):\n",
        "  for _ in range(max_new_tokens):\n",
        "    idx_cond = idx[:, -context_size:] #Only use last 5 tokens\n",
        "\n",
        "    with torch.no_grad():\n",
        "      logits = model(idx_cond)\n",
        "      logits = logits[:, -1, :] #Take last row from each batch\n",
        "      probas = torch.softmax(logits,dim = -1)\n",
        "      idx_next = torch.argmax(probas,dim = -1,keepdim = True)\n",
        "      idx = torch.cat((idx,idx_next),dim = 1)\n",
        "  return idx\n",
        "\n"
      ],
      "metadata": {
        "id": "2YI1pwPdv36Z"
      },
      "execution_count": 27,
      "outputs": []
    },
    {
      "cell_type": "code",
      "source": [
        "start_context = \"Hello, I am\"\n",
        "encoded = tokenizer.encode(start_context)\n",
        "encoded_tensor = torch.tensor(encoded).unsqueeze(0)\n",
        "print(f\"Encoded Tensor: {encoded}\")\n",
        "print(f\"Encoded Tensor Shape: {encoded_tensor.shape}\")\n",
        "\n",
        "#Output is input batch"
      ],
      "metadata": {
        "id": "AlvZyWFrwcv1",
        "colab": {
          "base_uri": "https://localhost:8080/"
        },
        "outputId": "3ae7268b-7961-4af8-a922-3af0dd49db62"
      },
      "execution_count": 28,
      "outputs": [
        {
          "output_type": "stream",
          "name": "stdout",
          "text": [
            "Encoded Tensor: [15496, 11, 314, 716]\n",
            "Encoded Tensor Shape: torch.Size([1, 4])\n"
          ]
        }
      ]
    },
    {
      "cell_type": "code",
      "source": [
        "model.eval()\n",
        "out = generate_text_simple(\n",
        "    model = model,\n",
        "    idx = encoded_tensor,\n",
        "    max_new_tokens = 6,\n",
        "    context_size = GPT_CONFIG_124M['context_length']\n",
        ")\n",
        "print(\"Output:\",out)\n",
        "print(\"Output Length:\",len(out[0]))\n",
        "#Output length is 4 input token + 6 new token"
      ],
      "metadata": {
        "id": "u7uDAzjsU_io",
        "colab": {
          "base_uri": "https://localhost:8080/"
        },
        "outputId": "79590457-5568-4327-976e-b24c57d35ca3"
      },
      "execution_count": 29,
      "outputs": [
        {
          "output_type": "stream",
          "name": "stdout",
          "text": [
            "Output: tensor([[15496,    11,   314,   716, 15851,  4029, 45838, 37045, 44119,  4933]])\n",
            "Output Length: 10\n"
          ]
        }
      ]
    },
    {
      "cell_type": "code",
      "source": [
        "decoded_text = tokenizer.decode(out.squeeze(0).tolist())\n",
        "print(decoded_text)\n",
        "#The result is random because we havent trained it yet, we will train it later"
      ],
      "metadata": {
        "id": "cwdEFQrGWpb_",
        "colab": {
          "base_uri": "https://localhost:8080/"
        },
        "outputId": "15d4c01a-51aa-43d6-82eb-9b5a38fd3965"
      },
      "execution_count": 30,
      "outputs": [
        {
          "output_type": "stream",
          "name": "stdout",
          "text": [
            "Hello, I am eternalml PLAATIVE premieredUp\n"
          ]
        }
      ]
    },
    {
      "cell_type": "markdown",
      "source": [
        "Measuring the loss function"
      ],
      "metadata": {
        "id": "TEFwjie7bNHt"
      }
    },
    {
      "cell_type": "code",
      "source": [
        "def text_to_token_ids(text, tokenizer):\n",
        "    encoded = tokenizer.encode(text, allowed_special={'<|endoftext|>'})\n",
        "    encoded_tensor = torch.tensor(encoded).unsqueeze(0) # add batch dimension\n",
        "    return encoded_tensor\n",
        "\n",
        "def token_ids_to_text(token_ids, tokenizer):\n",
        "    flat = token_ids.squeeze(0) # remove batch dimension\n",
        "    return tokenizer.decode(flat.tolist())\n",
        "\n",
        "start_context = \"Every effort moves you\"\n",
        "tokenizer = tiktoken.get_encoding(\"gpt2\")\n",
        "\n",
        "token_ids = generate_text_simple(\n",
        "    model=model,\n",
        "    idx=text_to_token_ids(start_context, tokenizer),\n",
        "    max_new_tokens=10,\n",
        "    context_size=GPT_CONFIG_124M[\"context_length\"]\n",
        ")\n"
      ],
      "metadata": {
        "id": "2vRjQbGSDIOO"
      },
      "execution_count": 31,
      "outputs": []
    },
    {
      "cell_type": "code",
      "source": [
        "inputs = torch.tensor([[16833, 3626, 6100],\n",
        "                       [40,1107,588]])\n",
        "\n",
        "targets = torch.tensor([[3626, 6100, 345],\n",
        "                        [1107,588,11311]])"
      ],
      "metadata": {
        "id": "ZdqEg9pLmWnr"
      },
      "execution_count": 32,
      "outputs": []
    },
    {
      "cell_type": "code",
      "source": [
        "with torch.no_grad():\n",
        "  logits = model(batch)\n",
        "\n",
        "  probas = torch.softmax(logits,dim = -1)\n",
        "  print(probas.shape)"
      ],
      "metadata": {
        "id": "wBsdwN6QYSoU",
        "colab": {
          "base_uri": "https://localhost:8080/"
        },
        "outputId": "c47be4e8-42c6-403b-929f-3c928a5da4cf"
      },
      "execution_count": 33,
      "outputs": [
        {
          "output_type": "stream",
          "name": "stdout",
          "text": [
            "torch.Size([2, 4, 50257])\n"
          ]
        }
      ]
    },
    {
      "cell_type": "code",
      "source": [
        "#Argmax returns indices of maximun values in tenosor\n",
        "token_ids = torch.argmax(probas,dim = -1, keepdim = True)\n",
        "print(\"Token IDs: \", token_ids)"
      ],
      "metadata": {
        "id": "oDyV_AsilQKu",
        "colab": {
          "base_uri": "https://localhost:8080/"
        },
        "outputId": "e212eb9d-6731-40d6-8dac-1794e87b7d0a"
      },
      "execution_count": 34,
      "outputs": [
        {
          "output_type": "stream",
          "name": "stdout",
          "text": [
            "Token IDs:  tensor([[[ 4125],\n",
            "         [13071],\n",
            "         [46228],\n",
            "         [31069]],\n",
            "\n",
            "        [[ 4125],\n",
            "         [42457],\n",
            "         [20787],\n",
            "         [14817]]])\n"
          ]
        }
      ]
    },
    {
      "cell_type": "code",
      "source": [
        "print(f\"The target is: {token_ids_to_text(token_ids[0].flatten(),tokenizer)}\")\n",
        "print(f\"The output is :{token_ids_to_text(targets[0].flatten(),tokenizer)}\")"
      ],
      "metadata": {
        "id": "c8TO5YxCloH_",
        "colab": {
          "base_uri": "https://localhost:8080/"
        },
        "outputId": "ce351996-f5fb-4f4f-afdd-ba067b7e8a92"
      },
      "execution_count": 35,
      "outputs": [
        {
          "output_type": "stream",
          "name": "stdout",
          "text": [
            "The target is: spe Hans Extend Hearth\n",
            "The output is : effort moves you\n"
          ]
        }
      ]
    },
    {
      "cell_type": "code",
      "source": [
        "text_idx0 = 0\n",
        "target_probas_1 = probas[text_idx0,[0,1,2],targets[text_idx0]]\n",
        "print(\"Text1: \",target_probas_1)\n",
        "\n",
        "text_idx1 = 1\n",
        "target_probas_2 = probas[text_idx1,[0,1,2],targets[text_idx1]]\n",
        "print(\"Text2: \",target_probas_2)"
      ],
      "metadata": {
        "id": "AyuCvaHSAZw6",
        "colab": {
          "base_uri": "https://localhost:8080/"
        },
        "outputId": "7212e17c-a0d6-4d2c-cb69-0587d4fab26b"
      },
      "execution_count": 36,
      "outputs": [
        {
          "output_type": "stream",
          "name": "stdout",
          "text": [
            "Text1:  tensor([2.4666e-05, 4.8920e-05, 9.9761e-06])\n",
            "Text2:  tensor([6.2990e-05, 2.8812e-05, 1.4677e-05])\n"
          ]
        }
      ]
    },
    {
      "cell_type": "code",
      "source": [
        "log_probas= torch.log(torch.cat((target_probas_1,target_probas_2)))\n",
        "print(log_probas)"
      ],
      "metadata": {
        "id": "9dU0AW9xBVk-",
        "colab": {
          "base_uri": "https://localhost:8080/"
        },
        "outputId": "7f8b0cf8-3a88-4988-fd46-0117ecf52e6d"
      },
      "execution_count": 37,
      "outputs": [
        {
          "output_type": "stream",
          "name": "stdout",
          "text": [
            "tensor([-10.6101,  -9.9253, -11.5153,  -9.6725, -10.4547, -11.1292])\n"
          ]
        }
      ]
    },
    {
      "cell_type": "code",
      "source": [
        "avg_log_probas = torch.mean(log_probas)\n",
        "print(avg_log_probas)"
      ],
      "metadata": {
        "id": "SrW8YCEYwF4Z",
        "colab": {
          "base_uri": "https://localhost:8080/"
        },
        "outputId": "51fecdce-7437-4de8-ffe8-6e03b563b03a"
      },
      "execution_count": 38,
      "outputs": [
        {
          "output_type": "stream",
          "name": "stdout",
          "text": [
            "tensor(-10.5512)\n"
          ]
        }
      ]
    },
    {
      "cell_type": "code",
      "source": [
        "neg_avg_log_probas = -1 * avg_log_probas\n",
        "print(neg_avg_log_probas)"
      ],
      "metadata": {
        "id": "JX0UjnK2wVVf",
        "colab": {
          "base_uri": "https://localhost:8080/"
        },
        "outputId": "cd9845a4-e06f-416d-84fc-2ea4fb12536b"
      },
      "execution_count": 39,
      "outputs": [
        {
          "output_type": "stream",
          "name": "stdout",
          "text": [
            "tensor(10.5512)\n"
          ]
        }
      ]
    },
    {
      "cell_type": "markdown",
      "source": [
        "Perplexity\n"
      ],
      "metadata": {
        "id": "oPgoeso2ycpi"
      }
    },
    {
      "cell_type": "code",
      "source": [
        "perplexity = torch.exp(neg_avg_log_probas)\n",
        "print(perplexity)"
      ],
      "metadata": {
        "id": "trUk1KmpydzN",
        "colab": {
          "base_uri": "https://localhost:8080/"
        },
        "outputId": "78315525-ca7d-4901-f377-6764ec504b6c"
      },
      "execution_count": 40,
      "outputs": [
        {
          "output_type": "stream",
          "name": "stdout",
          "text": [
            "tensor(38223.0938)\n"
          ]
        }
      ]
    },
    {
      "cell_type": "markdown",
      "source": [
        "##Evaluation of LLM on real world dataset"
      ],
      "metadata": {
        "id": "WvGD3dy81n78"
      }
    },
    {
      "cell_type": "code",
      "source": [
        "#90% of data is for training, 10% for testing\n",
        "#LLMs are auto regressive, meaning we dont label anything prehand"
      ],
      "metadata": {
        "id": "ZyZiDKN115Ce"
      },
      "execution_count": 41,
      "outputs": []
    },
    {
      "cell_type": "code",
      "source": [
        "import requests\n",
        "import os\n",
        "\n",
        "file_path = \"the-verdict.txt\"\n",
        "url = \"https://raw.githubusercontent.com/rasbt/LLMs-from-scratch/refs/heads/main/ch02/01_main-chapter-code/the-verdict.txt\"\n",
        "\n",
        "if not os.path.exists(file_path):\n",
        "    resp = requests.get(url)\n",
        "    text_data = resp.text  # Already a string\n",
        "    with open(file_path, \"w\", encoding=\"utf-8\") as file:\n",
        "        file.write(text_data)\n",
        "else:\n",
        "    with open(file_path, \"r\", encoding=\"utf-8\") as file:\n",
        "        text_data = file.read()\n"
      ],
      "metadata": {
        "id": "BPWiOVjo2mLY"
      },
      "execution_count": 42,
      "outputs": []
    },
    {
      "cell_type": "code",
      "source": [
        "print(text_data[:99])"
      ],
      "metadata": {
        "id": "AHC1PzKe__ID",
        "colab": {
          "base_uri": "https://localhost:8080/"
        },
        "outputId": "a222381b-0483-46eb-a90a-2406102da3bc"
      },
      "execution_count": 43,
      "outputs": [
        {
          "output_type": "stream",
          "name": "stdout",
          "text": [
            "I HAD always thought Jack Gisburn rather a cheap genius--though a good fellow enough--so it was no \n"
          ]
        }
      ]
    },
    {
      "cell_type": "code",
      "source": [
        "total_characters = len(text_data)\n",
        "total_tokens = len(tokenizer.encode(text_data))\n",
        "print(\"Characters:\", total_characters)\n",
        "print(\"Tokens:\",total_tokens)"
      ],
      "metadata": {
        "id": "ZdGrfWUGAn6S",
        "colab": {
          "base_uri": "https://localhost:8080/"
        },
        "outputId": "dc381039-b3f9-4e60-a35a-0a2dde114381"
      },
      "execution_count": 44,
      "outputs": [
        {
          "output_type": "stream",
          "name": "stdout",
          "text": [
            "Characters: 20479\n",
            "Tokens: 5145\n"
          ]
        }
      ]
    },
    {
      "cell_type": "markdown",
      "source": [
        "##Implementing the DataLoader"
      ],
      "metadata": {
        "id": "aP0pBVFsEfYh"
      }
    },
    {
      "cell_type": "code",
      "source": [
        "GPT_CONFIG_124M = {\n",
        "    \"vocab_size\" : 50257,\n",
        "    \"context_length\" : 256,\n",
        "    \"emb_dim\" : 768,\n",
        "    \"n_heads\": 12, #no of attention heads\n",
        "    \"n_layers\" : 12, #no_of transformers\n",
        "    \"drop_rate\" : 0.1, #10% of neurons are set to 0\n",
        "    \"qkv_bias\" :  False #not required bias term rn\n",
        "}"
      ],
      "metadata": {
        "id": "YQcCbEtAjvot"
      },
      "execution_count": 45,
      "outputs": []
    },
    {
      "cell_type": "code",
      "source": [
        "from torch.utils.data import Dataset, DataLoader\n",
        "class GPTDatasetV1(Dataset):\n",
        "    def __init__(self, txt, tokenizer, max_length, stride):\n",
        "        self.input_ids = []\n",
        "        self.target_ids = []\n",
        "        # Tokenize the entire text\n",
        "        token_ids = tokenizer.encode(txt, allowed_special={\"<|endoftext|>\"})\n",
        "        # Use a sliding window to chunk the book into overlapping sequences of max_length\n",
        "        for i in range(0, len(token_ids) - max_length, stride):\n",
        "            input_chunk = token_ids[i:i + max_length]\n",
        "            target_chunk = token_ids[i + 1: i + max_length + 1]\n",
        "            self.input_ids.append(torch.tensor(input_chunk))\n",
        "            self.target_ids.append(torch.tensor(target_chunk))\n",
        "\n",
        "    def __len__(self):\n",
        "        return len(self.input_ids)\n",
        "\n",
        "    def __getitem__(self, idx):\n",
        "        return self.input_ids[idx], self.target_ids[idx]"
      ],
      "metadata": {
        "id": "ytcmp_4PEkUa"
      },
      "execution_count": 46,
      "outputs": []
    },
    {
      "cell_type": "code",
      "execution_count": 47,
      "metadata": {
        "id": "NAcxisO6Gf7D"
      },
      "outputs": [],
      "source": [
        "def create_dataloader_v1(txt, batch_size=4, max_length=256,\n",
        "                         stride=128, shuffle=True, drop_last=True,\n",
        "                         num_workers=0):\n",
        "\n",
        "    # Initialize the tokenizer\n",
        "    tokenizer = tiktoken.get_encoding(\"gpt2\")\n",
        "\n",
        "    # Create dataset\n",
        "    dataset = GPTDatasetV1(txt, tokenizer, max_length, stride)\n",
        "\n",
        "    # Create dataloader\n",
        "    dataloader = DataLoader(\n",
        "        dataset,\n",
        "        batch_size=batch_size,\n",
        "        shuffle=shuffle,\n",
        "        drop_last=drop_last,\n",
        "        num_workers=num_workers\n",
        "    )\n",
        "    return dataloader"
      ]
    },
    {
      "cell_type": "markdown",
      "source": [
        "Train/Validation ratio"
      ],
      "metadata": {
        "id": "OsQRjkq_H2Hx"
      }
    },
    {
      "cell_type": "code",
      "source": [
        "train_ratio = 0.90\n",
        "split_idx = int(train_ratio * len(text_data))\n",
        "train_data = text_data[:split_idx]\n",
        "val_data = text_data[split_idx:]\n",
        "\n",
        "torch.manual_seed(123)\n",
        "\n",
        "train_loader = create_dataloader_v1(\n",
        "    train_data,\n",
        "    batch_size=2,\n",
        "    max_length=GPT_CONFIG_124M['context_length'],\n",
        "    stride=GPT_CONFIG_124M['context_length'],\n",
        "    shuffle=True,\n",
        "    drop_last=True,\n",
        "    num_workers=0 #no parallel processing\n",
        ")\n",
        "\n",
        "val_loader = create_dataloader_v1(\n",
        "    val_data,\n",
        "    batch_size=2,\n",
        "    max_length=GPT_CONFIG_124M['context_length'],\n",
        "    stride=GPT_CONFIG_124M['context_length'],\n",
        "    shuffle=True,\n",
        "    drop_last=True,\n",
        "    num_workers = 0 #no parallel processing\n",
        ")\n",
        "\n"
      ],
      "metadata": {
        "id": "XjGHCEs6IFkh"
      },
      "execution_count": 48,
      "outputs": []
    },
    {
      "cell_type": "code",
      "source": [
        "#Sanity check\n",
        "if int(total_tokens * (train_ratio)) < GPT_CONFIG_124M[\"context_length\"]:\n",
        "  print(\"Not enough tokens for training loader\")\n",
        "\n",
        "if int(total_tokens * (1- train_ratio)) < GPT_CONFIG_124M[\"context_length\"]:\n",
        "  print(\"Not enough token for validation loader\")"
      ],
      "metadata": {
        "id": "l6nXMxJGNvzs"
      },
      "execution_count": 49,
      "outputs": []
    },
    {
      "cell_type": "code",
      "source": [
        "print(\"Train Loader:\")\n",
        "for x,y in train_loader:\n",
        "  print(x.shape,y.shape)"
      ],
      "metadata": {
        "id": "Joak_4p1bueq",
        "colab": {
          "base_uri": "https://localhost:8080/"
        },
        "outputId": "790222fe-86d0-495f-d024-1f304c2f9328"
      },
      "execution_count": 50,
      "outputs": [
        {
          "output_type": "stream",
          "name": "stdout",
          "text": [
            "Train Loader:\n",
            "torch.Size([2, 256]) torch.Size([2, 256])\n",
            "torch.Size([2, 256]) torch.Size([2, 256])\n",
            "torch.Size([2, 256]) torch.Size([2, 256])\n",
            "torch.Size([2, 256]) torch.Size([2, 256])\n",
            "torch.Size([2, 256]) torch.Size([2, 256])\n",
            "torch.Size([2, 256]) torch.Size([2, 256])\n",
            "torch.Size([2, 256]) torch.Size([2, 256])\n",
            "torch.Size([2, 256]) torch.Size([2, 256])\n",
            "torch.Size([2, 256]) torch.Size([2, 256])\n"
          ]
        }
      ]
    },
    {
      "cell_type": "code",
      "source": [
        "print(\"Validation Loader\")\n",
        "for x,y in val_loader:\n",
        "  print(x.shape,y.shape)\n",
        "\n",
        "print(len(train_loader))\n",
        "print(len(val_loader))"
      ],
      "metadata": {
        "id": "iu9307CTcT6b",
        "colab": {
          "base_uri": "https://localhost:8080/"
        },
        "outputId": "b45e3afb-f3cb-4cd8-b4f8-fa7612164da0"
      },
      "execution_count": 51,
      "outputs": [
        {
          "output_type": "stream",
          "name": "stdout",
          "text": [
            "Validation Loader\n",
            "torch.Size([2, 256]) torch.Size([2, 256])\n",
            "9\n",
            "1\n"
          ]
        }
      ]
    },
    {
      "cell_type": "code",
      "source": [
        "#IN training data, 9 batches are created\n",
        "#each batch has 2 samples\n",
        "#One batch in validation data is created"
      ],
      "metadata": {
        "id": "o8t_2gFUgXe5"
      },
      "execution_count": 52,
      "outputs": []
    },
    {
      "cell_type": "markdown",
      "source": [
        "#LLM Loss Function Implementation"
      ],
      "metadata": {
        "id": "Dx8BBNoEy_2m"
      }
    },
    {
      "cell_type": "code",
      "source": [
        "def calc_loss_batch(input_batch, target_batch, model, device):\n",
        "  input_batch,target_batch = input_batch.to(device),target_batch.to(device)\n",
        "  logits = model(input_batch)\n",
        "  loss = torch.nn.functional.cross_entropy(logits.flatten(0,1),target_batch.flatten())\n",
        "  return loss\n",
        "\n",
        "def calc_loss_loader(data_loader,model,device,num_batches = None):\n",
        "  total_loss = 0\n",
        "  if len(data_loader) == 0:\n",
        "    return float(\"nan\")\n",
        "  elif num_batches is None:\n",
        "    num_batches = len(data_loader)\n",
        "  else:\n",
        "    num_batches = min(num_batches,len(data_loader))\n",
        "  for i,(input_batch,target_batch) in enumerate(data_loader):\n",
        "    if i >= num_batches:\n",
        "      break\n",
        "    loss = calc_loss_batch(input_batch,target_batch,model,device)\n",
        "    total_loss += loss.item()\n",
        "\n",
        "  return total_loss / num_batches\n"
      ],
      "metadata": {
        "id": "yEpVPgB9zB8A"
      },
      "execution_count": 53,
      "outputs": []
    },
    {
      "cell_type": "code",
      "source": [
        "device = torch.device(\"cuda\" if torch.cuda.is_available() else \"cpu\")\n",
        "model.to(device)\n",
        "torch.manual_seed(123)\n",
        "with torch.no_grad():\n",
        "  train_loss = calc_loss_loader(train_loader,model,device)\n",
        "  val_loss = calc_loss_loader(val_loader,model,device)\n",
        "\n",
        "print(train_loss)\n",
        "print(val_loss)"
      ],
      "metadata": {
        "id": "rMzIFMhhz_Ox",
        "colab": {
          "base_uri": "https://localhost:8080/"
        },
        "outputId": "d7ea9509-b7ca-4b2b-ef05-1c1cd95bcb33"
      },
      "execution_count": 54,
      "outputs": [
        {
          "output_type": "stream",
          "name": "stdout",
          "text": [
            "11.000095155504015\n",
            "11.001733779907227\n"
          ]
        }
      ]
    },
    {
      "cell_type": "markdown",
      "source": [
        "##LLM Pretraining Loop"
      ],
      "metadata": {
        "id": "7my4u1frQM0n"
      }
    },
    {
      "cell_type": "code",
      "source": [
        "def evaluate_model(model,device,train_loader,val_loader,eval_iter):\n",
        "  model.eval()\n",
        "  with torch.no_grad():\n",
        "    train_loss = calc_loss_loader(train_loader,model,device,num_batches = eval_iter)\n",
        "    val_loss =   calc_loss_loader(val_loader,model,device,num_batches = eval_iter)\n",
        "    model.train()\n",
        "    return train_loss,val_loss"
      ],
      "metadata": {
        "id": "tGPRWvvNb383"
      },
      "execution_count": 55,
      "outputs": []
    },
    {
      "cell_type": "code",
      "source": [
        "def generate_and_print_sample(model, tokenizer, device, start_context):\n",
        "  model.eval()\n",
        "  context_size = model.pos_emb.weight.shape[0]\n",
        "  encoded = text_to_token_ids(start_context, tokenizer).to(device)\n",
        "  with torch.no_grad():\n",
        "   token_ids = generate_text_simple(\n",
        "   model=model, idx=encoded,\n",
        "   max_new_tokens=50, context_size=context_size\n",
        "  )\n",
        "  decoded_text = token_ids_to_text(token_ids, tokenizer)\n",
        "  print(decoded_text.replace(\"\\n\", \"\")) # Compact print format\n",
        "  model.train()"
      ],
      "metadata": {
        "id": "ehAtjnqaGy45"
      },
      "execution_count": 56,
      "outputs": []
    },
    {
      "cell_type": "markdown",
      "source": [
        "Let's train GPT model for 10 epochs using Adam W optimizer"
      ],
      "metadata": {
        "id": "If0VZqtRBew4"
      }
    },
    {
      "cell_type": "code",
      "source": [
        "#Initialize a list to track losses and tokens seen\n",
        "def train_model_simple(model,train_loader,val_loader,optimizer,device,num_epochs,eval_iter,start_context,tokenizer,eval_freq):\n",
        "    train_losses = []\n",
        "    val_losses = []\n",
        "    track_tokens_seen = []\n",
        "    tokens_seen = 0\n",
        "    global_step = -1\n",
        "    for epoch in range(num_epochs):\n",
        "      model.train() #Set the model to training mode\n",
        "    for input_batch, target_batch in train_loader:\n",
        "        optimizer.zero_grad()\n",
        "        loss = calc_loss_batch(input_batch, target_batch, model, device)\n",
        "        loss.backward() #Calculate loss gradient\n",
        "        optimizer.step() #Update model weights using loss gradients\n",
        "        tokens_seen += input_batch.numel() #returns total number of elements\n",
        "        global_step += 1\n",
        "\n",
        "    #Optional Evaluation step\n",
        "    if global_step % eval_freq == 0:\n",
        "      train_loss,val_loss = evaluate_model(model,device,train_loader,val_loader,eval_iter)\n",
        "      train_losses.append(train_loss)\n",
        "      val_losses.append(val_loss)\n",
        "      track_tokens_seen.append(tokens_seen)\n",
        "      print(f\"Epoch: {epoch+1}(Step{global_step:06d}):\" f\"Train Loss: {train_loss:.3f}, Val Loss: {val_loss:.3f}\")\n",
        "\n",
        "generate_and_print_sample(model,tokenizer,device,start_context)\n",
        "\n",
        "\n",
        "\n"
      ],
      "metadata": {
        "id": "WpYtPw3KQPMq",
        "colab": {
          "base_uri": "https://localhost:8080/"
        },
        "outputId": "67d46cc1-269f-4ae4-e500-8bef16c8ed6a"
      },
      "execution_count": 72,
      "outputs": [
        {
          "output_type": "stream",
          "name": "stdout",
          "text": [
            "Every effort moves you Hearth cu Montanaovic McMaster convict mayorennett Mog considerableIdDallas bulb FallACE MBRest Thank mitigation splendid overflowopoly ArmenOrderグ DavidDesign COPH\u0016 Shotrand Weiss mirrored Sor lineback bureau discounted instruct prefrontal Economy registration s proofDevice stagnShot simplicityChapter meg\n"
          ]
        }
      ]
    },
    {
      "cell_type": "code",
      "source": [
        "import time\n",
        "start_time = time.time()\n",
        "\n",
        "torch.manual_seed(123)\n",
        "model = GPTModel(GPT_CONFIG_124M)\n",
        "model.to(device)\n",
        "optimizer = torch.optim.AdamW(model.parameters(),lr = 0.004, weight_decay = 0.1)\n",
        "\n",
        "num_epochs = 10\n",
        "train_losses,val_losses,tokens_seen = train_model_simple( model,train_loader,val_loader,optimizer,device, num_epochs = num_epochs,eval_freq = 5,eval_iter = 5,start_context = \"Every effort moves you\",tokenizer = tokenizer)\n",
        "\n",
        "end_time = time.time()\n",
        "executin_time_minutes = (end_time - start_time) / 60\n",
        "print(f\"Total execution time: {executin_time_minutes:.2f} minutes\")"
      ],
      "metadata": {
        "id": "86y4FwGNBhcp"
      },
      "execution_count": null,
      "outputs": []
    },
    {
      "cell_type": "code",
      "source": [],
      "metadata": {
        "id": "exzw1M920Mbu"
      },
      "execution_count": null,
      "outputs": []
    }
  ]
}